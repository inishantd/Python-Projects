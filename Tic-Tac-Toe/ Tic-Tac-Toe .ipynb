{
 "cells": [
  {
   "cell_type": "markdown",
   "id": "cd003fbf",
   "metadata": {},
   "source": [
    "# Milestone Project 1: Tic-Tac-Toe\n"
   ]
  },
  {
   "cell_type": "markdown",
   "id": "47682189",
   "metadata": {},
   "source": [
    "### Overview - \n",
    "- 2 players should be able to play the game (both sitting at the same computer). <br>\n",
    "- The board should be printed out every time a player makes a move.<br>\n",
    "- You should be able to accept input of the player position and the place a symbol on the board."
   ]
  },
  {
   "cell_type": "markdown",
   "id": "5803b718",
   "metadata": {},
   "source": [
    "### Step 1: Function that can print out a board."
   ]
  },
  {
   "attachments": {
    "2022-10-19.png": {
     "image/png": "[encoded data removed]"
    }
   },
   "cell_type": "markdown",
   "id": "39e7ce49",
   "metadata": {},
   "source": [
    "We Will use the \"numpad\" to match numbers to the grid on a tic tac toe board:\n",
    "![2022-10-19.png](attachment:2022-10-19.png)"
   ]
  },
  {
   "cell_type": "code",
   "execution_count": 1,
   "id": "cd4b2864",
   "metadata": {},
   "outputs": [],
   "source": [
    "from IPython.display import clear_output\n",
    "\n",
    "def display_board(board):\n",
    "    clear_output() \n",
    "    \n",
    "    print('   |   |')\n",
    "    print(' ' + board[7] + ' | ' + board[8] + ' |  ' + board[9])\n",
    "    print('   |   |')\n",
    "    print('-------------')\n",
    "    print('   |   |')\n",
    "    print(' ' + board[4] + ' | ' + board[5] + ' |  ' + board[6])\n",
    "    print('   |   |')\n",
    "    print('-------------')\n",
    "    print('   |   |')\n",
    "    print(' ' + board[1] + ' | ' + board[2] + ' |  ' + board[3])\n",
    "    print('   |   |')\n",
    "    "
   ]
  },
  {
   "cell_type": "markdown",
   "id": "b6c07e89",
   "metadata": {},
   "source": [
    "### Test Step 1: "
   ]
  },
  {
   "cell_type": "code",
   "execution_count": 2,
   "id": "23cee1c0",
   "metadata": {},
   "outputs": [
    {
     "name": "stdout",
     "output_type": "stream",
     "text": [
      "   |   |\n",
      " X | O |  X\n",
      "   |   |\n",
      "-------------\n",
      "   |   |\n",
      " O | X |  O\n",
      "   |   |\n",
      "-------------\n",
      "   |   |\n",
      " X | O |  X\n",
      "   |   |\n"
     ]
    }
   ],
   "source": [
    "test_board = ['#','X','O','X','O','X','O','X','O','X']\n",
    "display_board(test_board)"
   ]
  },
  {
   "cell_type": "markdown",
   "id": "30b11b5a",
   "metadata": {},
   "source": [
    "### Step 2: Function that can take in a player input and assign their marker as 'X' or 'O'."
   ]
  },
  {
   "cell_type": "code",
   "execution_count": 3,
   "id": "307c9d69",
   "metadata": {},
   "outputs": [],
   "source": [
    "def player_input():\n",
    "    marker = ''\n",
    "    \n",
    "    while not (marker == 'X' or marker == 'O'):\n",
    "        marker = input('Player 1: Do you want to be X or O? ').upper()\n",
    "        \n",
    "    if marker == 'X':\n",
    "        return ('X', 'O')\n",
    "    else:\n",
    "        return ('O', 'X')"
   ]
  },
  {
   "cell_type": "markdown",
   "id": "322909a9",
   "metadata": {},
   "source": [
    "### Test Step 2: "
   ]
  },
  {
   "cell_type": "code",
   "execution_count": 4,
   "id": "8f0d8caa",
   "metadata": {},
   "outputs": [
    {
     "name": "stdout",
     "output_type": "stream",
     "text": [
      "Player 1: Do you want to be X or O? x\n"
     ]
    },
    {
     "data": {
      "text/plain": [
       "('X', 'O')"
      ]
     },
     "execution_count": 4,
     "metadata": {},
     "output_type": "execute_result"
    }
   ],
   "source": [
    "player_input()"
   ]
  },
  {
   "cell_type": "markdown",
   "id": "f997604f",
   "metadata": {},
   "source": [
    "### Step 3: Function that takes in the board list objects, a marker ('X' or 'O'), and a desired position (number 1-9) and assigns it to the board."
   ]
  },
  {
   "cell_type": "code",
   "execution_count": 5,
   "id": "38026a98",
   "metadata": {},
   "outputs": [],
   "source": [
    "def place_marker(board,marker,position):\n",
    "    board[position] = marker"
   ]
  },
  {
   "cell_type": "markdown",
   "id": "1fb13bd6",
   "metadata": {},
   "source": [
    "### TEST Step 3:"
   ]
  },
  {
   "cell_type": "code",
   "execution_count": 6,
   "id": "6eea5ad3",
   "metadata": {},
   "outputs": [
    {
     "name": "stdout",
     "output_type": "stream",
     "text": [
      "   |   |\n",
      " X | $ |  X\n",
      "   |   |\n",
      "-------------\n",
      "   |   |\n",
      " O | X |  O\n",
      "   |   |\n",
      "-------------\n",
      "   |   |\n",
      " X | O |  X\n",
      "   |   |\n"
     ]
    }
   ],
   "source": [
    "place_marker(test_board,'$',8)\n",
    "display_board(test_board)"
   ]
  },
  {
   "cell_type": "markdown",
   "id": "88cc6aef",
   "metadata": {},
   "source": [
    "### Step 4: Write a function that takes in a board and checks to see if someone has won."
   ]
  },
  {
   "cell_type": "code",
   "execution_count": 7,
   "id": "297b7508",
   "metadata": {},
   "outputs": [],
   "source": [
    "def win_check(board,mark): \n",
    "    # Returns Bool value - True or False\n",
    "    return ((board[7] == mark and board[8] == mark and board[9] == mark) or # Row 1 (Across the top)\n",
    "    (board[4] == mark and board[5] == mark and board[6] == mark) or # Row 2 (Across the middle)\n",
    "    (board[1] == mark and board[2] == mark and board[3] == mark) or # Row 3 (Across the bottom)\n",
    "    (board[7] == mark and board[4] == mark and board[1] == mark) or # Column 1 (Down the left side)\n",
    "    (board[8] == mark and board[5] == mark and board[2] == mark) or # Column 2 (Down the middle)\n",
    "    (board[9] == mark and board[6] == mark and board[3] == mark) or # Column 3 (Down the right side)\n",
    "    (board[7] == mark and board[5] == mark and board[3] == mark) or # Diagonal\n",
    "    (board[9] == mark and board[5] == mark and board[1] == mark))  # Diagonal"
   ]
  },
  {
   "cell_type": "markdown",
   "id": "f209f836",
   "metadata": {},
   "source": [
    "### TEST Step 4:"
   ]
  },
  {
   "cell_type": "code",
   "execution_count": 8,
   "id": "9427849e",
   "metadata": {
    "scrolled": true
   },
   "outputs": [
    {
     "data": {
      "text/plain": [
       "True"
      ]
     },
     "execution_count": 8,
     "metadata": {},
     "output_type": "execute_result"
    }
   ],
   "source": [
    "win_check(test_board,'X')"
   ]
  },
  {
   "cell_type": "markdown",
   "id": "b8bfc792",
   "metadata": {},
   "source": [
    "### Step 5: Function that uses the random module to randomly decide which player goes first."
   ]
  },
  {
   "cell_type": "code",
   "execution_count": 9,
   "id": "b64fd684",
   "metadata": {},
   "outputs": [],
   "source": [
    "import random \n",
    "\n",
    "def choose_first():\n",
    "    if random.randint(0, 1) == 0:\n",
    "        return 'Player 2'\n",
    "    else: \n",
    "        return 'Player 1'"
   ]
  },
  {
   "cell_type": "markdown",
   "id": "f07750f5",
   "metadata": {},
   "source": [
    "### Step 6: Function that returns a boolean indicating whether a space on the board is freely available."
   ]
  },
  {
   "cell_type": "code",
   "execution_count": 10,
   "id": "58ba7048",
   "metadata": {},
   "outputs": [],
   "source": [
    "def space_check(board, position):\n",
    "    \n",
    "    return board[position] == ' '"
   ]
  },
  {
   "cell_type": "markdown",
   "id": "50dade33",
   "metadata": {},
   "source": [
    "### Step 7: Function that checks if the board is full and returns a boolean value. True if full, False otherwise."
   ]
  },
  {
   "cell_type": "code",
   "execution_count": 11,
   "id": "29dbbf19",
   "metadata": {},
   "outputs": [],
   "source": [
    "def full_board_check(board):\n",
    "    for i in range(1,10):\n",
    "        if space_check(board, i):\n",
    "            return False\n",
    "    return True"
   ]
  },
  {
   "cell_type": "markdown",
   "id": "b12f9ea6",
   "metadata": {},
   "source": [
    "### Step 8: Function that asks for a player's next position (as a number 1-9) and then uses the function from step 6 to check if its a free position. If it is, then reutrn the position for later use. "
   ]
  },
  {
   "cell_type": "code",
   "execution_count": 12,
   "id": "beae701f",
   "metadata": {},
   "outputs": [],
   "source": [
    "def player_choice(board):\n",
    "    position = 0\n",
    "    \n",
    "    while position not in [1,2,3,4,5,6,7,8,9] or not space_check(board, position):\n",
    "        position = int(input('Choose your next position:(1-9) '))\n",
    "        \n",
    "    return position"
   ]
  },
  {
   "cell_type": "markdown",
   "id": "8d78960a",
   "metadata": {},
   "source": [
    "### Step 9: Function that asks the player if they want to play again and return a boolean True if they do want to play again."
   ]
  },
  {
   "cell_type": "code",
   "execution_count": 13,
   "id": "dee5a20d",
   "metadata": {},
   "outputs": [],
   "source": [
    "def replay():\n",
    "    \n",
    "    return input('Do you want to play again? Enter Yes or No: ').lower().startswith('y')"
   ]
  },
  {
   "cell_type": "markdown",
   "id": "c537354f",
   "metadata": {},
   "source": [
    "### Step 10: Using while loops and the functions above to run the game."
   ]
  },
  {
   "cell_type": "code",
   "execution_count": null,
   "id": "cd4e6e79",
   "metadata": {},
   "outputs": [
    {
     "name": "stdout",
     "output_type": "stream",
     "text": [
      "Welcome to Tic-Tac-Toe!\n",
      "Player 1: Do you want to be X or O? x\n",
      "Player 1 will go first.\n"
     ]
    }
   ],
   "source": [
    "print('Welcome to Tic-Tac-Toe!')\n",
    "\n",
    "while True:\n",
    "    # Setting Everything up(Board, Who First, Choose Markers X,O)\n",
    "    theBoard = [' ']*10\n",
    "    player1_marker, player2_marker = player_input()\n",
    "    turn = choose_first()\n",
    "    print(turn + ' will go first.')\n",
    "    \n",
    "    play_game = input('Are you reaedy to play? Enter <y> for Yes or <n> for No.')\n",
    "    \n",
    "    if play_game.lower()[0] == 'y':\n",
    "        game_on = True\n",
    "    else:\n",
    "        game_on = False\n",
    "    # Game Play\n",
    "    while game_on: # player1's turn.\n",
    "        if turn == 'Player 1':\n",
    "            \n",
    "            display_board(theBoard)\n",
    "            position = player_choice(theBoard)\n",
    "            place_marker(theBoard, player1_marker, position)\n",
    "            \n",
    "            if win_check(theBoard, player1_marker):\n",
    "                display_board(theBoard)\n",
    "                print('Congratulations! You have won the game!')\n",
    "                game_on = False\n",
    "            else:\n",
    "                if full_board_check(theBoard):\n",
    "                    display_board(theBoard)\n",
    "                    print('The game is a draw!')\n",
    "                    break\n",
    "                else:\n",
    "                    turn = 'Player 2'\n",
    "        \n",
    "        else: # player2's turn.\n",
    "            display_board(theBoard)\n",
    "            position = player_choice(theBoard)\n",
    "            place_marker(theBoard, player2_marker, position)\n",
    "            \n",
    "            if win_check(theBoard, player2_marker):\n",
    "                display_board(theBoard)\n",
    "                print('Player 2 has won!')\n",
    "                game_on = False\n",
    "            else:\n",
    "                if full_board_check(theBoard):\n",
    "                    display_board(theBoard)\n",
    "                    print('The game is a draw!')\n",
    "                    break\n",
    "                else:\n",
    "                    turn = 'Player 1'\n",
    "            \n",
    "    if not replay():\n",
    "        break\n",
    "    \n",
    "    \n",
    "    \n",
    "    "
   ]
  }
 ],
 "metadata": {
  "kernelspec": {
   "display_name": "Python 3 (ipykernel)",
   "language": "python",
   "name": "python3"
  },
  "language_info": {
   "codemirror_mode": {
    "name": "ipython",
    "version": 3
   },
   "file_extension": ".py",
   "mimetype": "text/x-python",
   "name": "python",
   "nbconvert_exporter": "python",
   "pygments_lexer": "ipython3",
   "version": "3.9.12"
  }
 },
 "nbformat": 4,
 "nbformat_minor": 5
}
